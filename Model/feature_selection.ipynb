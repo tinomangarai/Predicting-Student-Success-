{
 "cells": [
  {
   "cell_type": "code",
   "execution_count": 1,
   "id": "6966aa60",
   "metadata": {},
   "outputs": [],
   "source": [
    "import pandas as pd\n",
    "import numpy as np\n",
    "import matplotlib.pyplot as plt\n",
    "import plotly.express as px\n",
    "import plotly.graph_objs as go\n",
    "import plotly.figure_factory as ff"
   ]
  },
  {
   "cell_type": "code",
   "execution_count": 3,
   "id": "1c0e7a84",
   "metadata": {},
   "outputs": [],
   "source": [
    "df = pd.read_csv('result.csv')"
   ]
  },
  {
   "cell_type": "code",
   "execution_count": 4,
   "id": "2305a82b",
   "metadata": {},
   "outputs": [
    {
     "name": "stdout",
     "output_type": "stream",
     "text": [
      "<class 'pandas.core.frame.DataFrame'>\n",
      "RangeIndex: 1044 entries, 0 to 1043\n",
      "Data columns (total 33 columns):\n",
      " #   Column      Non-Null Count  Dtype  \n",
      "---  ------      --------------  -----  \n",
      " 0   Unnamed: 0  1044 non-null   int64  \n",
      " 1   school      1044 non-null   object \n",
      " 2   sex         1044 non-null   object \n",
      " 3   age         1044 non-null   int64  \n",
      " 4   address     1044 non-null   object \n",
      " 5   famsize     1044 non-null   object \n",
      " 6   Pstatus     1044 non-null   object \n",
      " 7   Medu        1044 non-null   int64  \n",
      " 8   Fedu        1044 non-null   int64  \n",
      " 9   Mjob        1044 non-null   object \n",
      " 10  Fjob        1044 non-null   object \n",
      " 11  reason      1044 non-null   object \n",
      " 12  guardian    1044 non-null   object \n",
      " 13  traveltime  1044 non-null   int64  \n",
      " 14  studytime   1044 non-null   int64  \n",
      " 15  failures    1044 non-null   int64  \n",
      " 16  schoolsup   1044 non-null   object \n",
      " 17  famsup      1044 non-null   object \n",
      " 18  paid        1044 non-null   object \n",
      " 19  activities  1044 non-null   object \n",
      " 20  nursery     1044 non-null   object \n",
      " 21  higher      1044 non-null   object \n",
      " 22  internet    1044 non-null   object \n",
      " 23  romantic    1044 non-null   object \n",
      " 24  famrel      1044 non-null   int64  \n",
      " 25  freetime    1044 non-null   int64  \n",
      " 26  goout       1044 non-null   int64  \n",
      " 27  Dalc        1044 non-null   int64  \n",
      " 28  Walc        1044 non-null   int64  \n",
      " 29  health      1044 non-null   int64  \n",
      " 30  absences    1044 non-null   int64  \n",
      " 31  Subject     1044 non-null   int64  \n",
      " 32  Final_G     1044 non-null   float64\n",
      "dtypes: float64(1), int64(15), object(17)\n",
      "memory usage: 269.3+ KB\n"
     ]
    }
   ],
   "source": [
    "df.info()"
   ]
  },
  {
   "cell_type": "code",
   "execution_count": 16,
   "id": "84e56a05",
   "metadata": {},
   "outputs": [],
   "source": [
    "ses_df = pd.DataFrame(df[['sex', 'address', 'famsize' , 'Pstatus','Medu','Fedu','Mjob','Fjob',\n",
    "                    'guardian','famsup','schoolsup', 'internet','paid','higher','Final_G']])"
   ]
  },
  {
   "cell_type": "code",
   "execution_count": 17,
   "id": "eac6ede9",
   "metadata": {},
   "outputs": [
    {
     "name": "stdout",
     "output_type": "stream",
     "text": [
      "<class 'pandas.core.frame.DataFrame'>\n",
      "RangeIndex: 1044 entries, 0 to 1043\n",
      "Data columns (total 15 columns):\n",
      " #   Column     Non-Null Count  Dtype  \n",
      "---  ------     --------------  -----  \n",
      " 0   sex        1044 non-null   object \n",
      " 1   address    1044 non-null   object \n",
      " 2   famsize    1044 non-null   object \n",
      " 3   Pstatus    1044 non-null   object \n",
      " 4   Medu       1044 non-null   int64  \n",
      " 5   Fedu       1044 non-null   int64  \n",
      " 6   Mjob       1044 non-null   object \n",
      " 7   Fjob       1044 non-null   object \n",
      " 8   guardian   1044 non-null   object \n",
      " 9   famsup     1044 non-null   object \n",
      " 10  schoolsup  1044 non-null   object \n",
      " 11  internet   1044 non-null   object \n",
      " 12  paid       1044 non-null   object \n",
      " 13  higher     1044 non-null   object \n",
      " 14  Final_G    1044 non-null   float64\n",
      "dtypes: float64(1), int64(2), object(12)\n",
      "memory usage: 122.5+ KB\n"
     ]
    }
   ],
   "source": [
    "ses_df.info()"
   ]
  },
  {
   "cell_type": "code",
   "execution_count": 10,
   "id": "a276a52d",
   "metadata": {},
   "outputs": [],
   "source": [
    "X = ses_df.copy()\n",
    "y = X.pop(\"Final_G\")\n",
    "\n",
    "# Label encoding for categoricals\n",
    "for colname in X.select_dtypes(\"object\"):\n",
    "    X[colname], _ = X[colname].factorize()\n",
    "\n",
    "# All discrete features should now have integer dtypes\n",
    "discrete_features = X.dtypes == int"
   ]
  },
  {
   "cell_type": "code",
   "execution_count": 11,
   "id": "5850ae71",
   "metadata": {},
   "outputs": [
    {
     "data": {
      "text/plain": [
       "Medu         0.044589\n",
       "famsup       0.018046\n",
       "higher       0.013477\n",
       "sex          0.008485\n",
       "Fjob         0.007125\n",
       "schoolsup    0.005176\n",
       "Fedu         0.003406\n",
       "Mjob         0.001973\n",
       "guardian     0.001395\n",
       "Pstatus      0.000321\n",
       "address      0.000000\n",
       "famsize      0.000000\n",
       "internet     0.000000\n",
       "paid         0.000000\n",
       "Name: MI Scores, dtype: float64"
      ]
     },
     "execution_count": 11,
     "metadata": {},
     "output_type": "execute_result"
    }
   ],
   "source": [
    "# A look at a few features with their MI scores\n",
    "from sklearn.feature_selection import mutual_info_regression\n",
    "\n",
    "def make_mi_scores(X, y, discrete_features):\n",
    "    mi_scores = mutual_info_regression(X, y, discrete_features=discrete_features)\n",
    "    mi_scores = pd.Series(mi_scores, name=\"MI Scores\", index=X.columns)\n",
    "    mi_scores = mi_scores.sort_values(ascending=False)\n",
    "    return mi_scores\n",
    "\n",
    "mi_scores = make_mi_scores(X, y, discrete_features)\n",
    "mi_scores[::]"
   ]
  },
  {
   "cell_type": "code",
   "execution_count": 12,
   "id": "0c9a4aa9",
   "metadata": {},
   "outputs": [
    {
     "data": {
      "image/png": "[encoded data removed]",
      "text/plain": [
       "<Figure size 800x500 with 1 Axes>"
      ]
     },
     "metadata": {},
     "output_type": "display_data"
    }
   ],
   "source": [
    "# Bar chat for a somewhat easier comparision\n",
    "def plot_mi_scores(scores):\n",
    "    scores = scores.sort_values(ascending=True)\n",
    "    width = np.arange(len(scores))\n",
    "    ticks = list(scores.index)\n",
    "    plt.barh(width, scores)\n",
    "    plt.yticks(width, ticks)\n",
    "    plt.title(\"Mutual Information Scores\")\n",
    "\n",
    "\n",
    "plt.figure(dpi=100, figsize=(8, 5))\n",
    "plot_mi_scores(mi_scores)"
   ]
  },
  {
   "cell_type": "markdown",
   "id": "65dead02",
   "metadata": {},
   "source": [
    "# Correlation Matrix"
   ]
  },
  {
   "cell_type": "code",
   "execution_count": 27,
   "id": "048f1f38",
   "metadata": {},
   "outputs": [
    {
     "data": {
      "text/html": [
       "<div>\n",
       "<style scoped>\n",
       "    .dataframe tbody tr th:only-of-type {\n",
       "        vertical-align: middle;\n",
       "    }\n",
       "\n",
       "    .dataframe tbody tr th {\n",
       "        vertical-align: top;\n",
       "    }\n",
       "\n",
       "    .dataframe thead th {\n",
       "        text-align: right;\n",
       "    }\n",
       "</style>\n",
       "<table border=\"1\" class=\"dataframe\">\n",
       "  <thead>\n",
       "    <tr style=\"text-align: right;\">\n",
       "      <th></th>\n",
       "      <th>sex</th>\n",
       "      <th>address</th>\n",
       "      <th>famsize</th>\n",
       "      <th>Pstatus</th>\n",
       "      <th>Medu</th>\n",
       "      <th>Fedu</th>\n",
       "      <th>Mjob</th>\n",
       "      <th>Fjob</th>\n",
       "      <th>guardian</th>\n",
       "      <th>famsup</th>\n",
       "      <th>schoolsup</th>\n",
       "      <th>internet</th>\n",
       "      <th>paid</th>\n",
       "      <th>higher</th>\n",
       "      <th>Final_G</th>\n",
       "    </tr>\n",
       "  </thead>\n",
       "  <tbody>\n",
       "    <tr>\n",
       "      <th>0</th>\n",
       "      <td>0</td>\n",
       "      <td>0</td>\n",
       "      <td>0</td>\n",
       "      <td>0</td>\n",
       "      <td>4</td>\n",
       "      <td>4</td>\n",
       "      <td>0</td>\n",
       "      <td>0</td>\n",
       "      <td>0</td>\n",
       "      <td>0</td>\n",
       "      <td>0</td>\n",
       "      <td>0</td>\n",
       "      <td>0</td>\n",
       "      <td>0</td>\n",
       "      <td>6.0</td>\n",
       "    </tr>\n",
       "    <tr>\n",
       "      <th>1</th>\n",
       "      <td>0</td>\n",
       "      <td>0</td>\n",
       "      <td>0</td>\n",
       "      <td>1</td>\n",
       "      <td>1</td>\n",
       "      <td>1</td>\n",
       "      <td>0</td>\n",
       "      <td>1</td>\n",
       "      <td>1</td>\n",
       "      <td>1</td>\n",
       "      <td>1</td>\n",
       "      <td>1</td>\n",
       "      <td>0</td>\n",
       "      <td>0</td>\n",
       "      <td>5.0</td>\n",
       "    </tr>\n",
       "    <tr>\n",
       "      <th>2</th>\n",
       "      <td>0</td>\n",
       "      <td>0</td>\n",
       "      <td>1</td>\n",
       "      <td>1</td>\n",
       "      <td>1</td>\n",
       "      <td>1</td>\n",
       "      <td>0</td>\n",
       "      <td>1</td>\n",
       "      <td>0</td>\n",
       "      <td>0</td>\n",
       "      <td>0</td>\n",
       "      <td>1</td>\n",
       "      <td>1</td>\n",
       "      <td>0</td>\n",
       "      <td>8.0</td>\n",
       "    </tr>\n",
       "    <tr>\n",
       "      <th>3</th>\n",
       "      <td>0</td>\n",
       "      <td>0</td>\n",
       "      <td>0</td>\n",
       "      <td>1</td>\n",
       "      <td>4</td>\n",
       "      <td>2</td>\n",
       "      <td>1</td>\n",
       "      <td>2</td>\n",
       "      <td>0</td>\n",
       "      <td>1</td>\n",
       "      <td>1</td>\n",
       "      <td>1</td>\n",
       "      <td>1</td>\n",
       "      <td>0</td>\n",
       "      <td>15.0</td>\n",
       "    </tr>\n",
       "    <tr>\n",
       "      <th>4</th>\n",
       "      <td>0</td>\n",
       "      <td>0</td>\n",
       "      <td>0</td>\n",
       "      <td>1</td>\n",
       "      <td>3</td>\n",
       "      <td>3</td>\n",
       "      <td>2</td>\n",
       "      <td>1</td>\n",
       "      <td>1</td>\n",
       "      <td>1</td>\n",
       "      <td>1</td>\n",
       "      <td>0</td>\n",
       "      <td>1</td>\n",
       "      <td>0</td>\n",
       "      <td>9.0</td>\n",
       "    </tr>\n",
       "  </tbody>\n",
       "</table>\n",
       "</div>"
      ],
      "text/plain": [
       "   sex  address  famsize  Pstatus  Medu  Fedu  Mjob  Fjob  guardian  famsup  \\\n",
       "0    0        0        0        0     4     4     0     0         0       0   \n",
       "1    0        0        0        1     1     1     0     1         1       1   \n",
       "2    0        0        1        1     1     1     0     1         0       0   \n",
       "3    0        0        0        1     4     2     1     2         0       1   \n",
       "4    0        0        0        1     3     3     2     1         1       1   \n",
       "\n",
       "   schoolsup  internet  paid  higher  Final_G  \n",
       "0          0         0     0       0      6.0  \n",
       "1          1         1     0       0      5.0  \n",
       "2          0         1     1       0      8.0  \n",
       "3          1         1     1       0     15.0  \n",
       "4          1         0     1       0      9.0  "
      ]
     },
     "execution_count": 27,
     "metadata": {},
     "output_type": "execute_result"
    }
   ],
   "source": [
    "z = pd.concat([X,y], axis=1)\n",
    "z.head()"
   ]
  },
  {
   "cell_type": "code",
   "execution_count": 26,
   "id": "fbad1f9d",
   "metadata": {},
   "outputs": [
    {
     "data": {
      "application/vnd.plotly.v1+json": {
       "config": {
        "plotlyServerURL": "https://plot.ly"
       },
       "data": [
        {
         "colorscale": [
          [
           0,
           "#440154"
          ],
          [
           0.1111111111111111,
           "#482878"
          ],
          [
           0.2222222222222222,
           "#3e4989"
          ],
          [
           0.3333333333333333,
           "#31688e"
          ],
          [
           0.4444444444444444,
           "#26828e"
          ],
          [
           0.5555555555555556,
           "#1f9e89"
          ],
          [
           0.6666666666666666,
           "#35b779"
          ],
          [
           0.7777777777777778,
           "#6ece58"
          ],
          [
           0.8888888888888888,
           "#b5de2b"
          ],
          [
           1,
           "#fde725"
          ]
         ],
         "text": [
          [
           1,
           -0.01,
           0.09,
           0.05,
           0.11,
           0.07,
           0.17,
           -0.06,
           0.01,
           -0.14,
           0.12,
           0.06,
           0,
           0.08,
           -0.03
          ],
          [
           -0.01,
           1,
           -0.05,
           0.07,
           -0.18,
           -0.12,
           -0.15,
           -0.05,
           -0.01,
           -0.01,
           0.02,
           -0.19,
           -0.05,
           0.07,
           -0.12
          ],
          [
           0.09,
           -0.05,
           1,
           -0.21,
           -0.03,
           -0.05,
           0.04,
           0.06,
           -0.02,
           -0.07,
           0.05,
           0.01,
           -0.03,
           0,
           0.07
          ],
          [
           0.05,
           0.07,
           -0.21,
           1,
           -0.08,
           -0.05,
           -0.04,
           0.03,
           0.02,
           0.01,
           0.02,
           0.07,
           0.04,
           -0.01,
           -0.02
          ],
          [
           0.11,
           -0.18,
           -0.03,
           -0.08,
           1,
           0.64,
           0.46,
           -0.1,
           -0.12,
           0.14,
           0.02,
           0.25,
           0.16,
           -0.21,
           0.23
          ],
          [
           0.07,
           -0.12,
           -0.05,
           -0.05,
           0.64,
           1,
           0.28,
           -0.06,
           0,
           0.15,
           -0.03,
           0.17,
           0.12,
           -0.19,
           0.19
          ],
          [
           0.17,
           -0.15,
           0.04,
           -0.04,
           0.46,
           0.28,
           1,
           -0.09,
           -0.09,
           0.04,
           0.01,
           0.25,
           0.09,
           -0.14,
           0.12
          ],
          [
           -0.06,
           -0.05,
           0.06,
           0.03,
           -0.1,
           -0.06,
           -0.09,
           1,
           0.07,
           0.04,
           0,
           -0.02,
           0.01,
           0.05,
           -0.05
          ],
          [
           0.01,
           -0.01,
           -0.02,
           0.02,
           -0.12,
           0,
           -0.09,
           0.07,
           1,
           0.03,
           0.01,
           0.02,
           -0.02,
           0.09,
           -0.04
          ],
          [
           -0.14,
           -0.01,
           -0.07,
           0.01,
           0.14,
           0.15,
           0.04,
           0.04,
           0.03,
           1,
           -0.09,
           0.08,
           0.17,
           -0.09,
           0
          ],
          [
           0.12,
           0.02,
           0.05,
           0.02,
           0.02,
           -0.03,
           0.01,
           0,
           0.01,
           -0.09,
           1,
           0.02,
           -0.02,
           0.08,
           0.1
          ],
          [
           0.06,
           -0.19,
           0.01,
           0.07,
           0.25,
           0.17,
           0.25,
           -0.02,
           0.02,
           0.08,
           0.02,
           1,
           0.11,
           -0.06,
           0.11
          ],
          [
           0,
           -0.05,
           -0.03,
           0.04,
           0.16,
           0.12,
           0.09,
           0.01,
           -0.02,
           0.17,
           -0.02,
           0.11,
           1,
           -0.12,
           -0.04
          ],
          [
           0.08,
           0.07,
           0,
           -0.01,
           -0.21,
           -0.19,
           -0.14,
           0.05,
           0.09,
           -0.09,
           0.08,
           -0.06,
           -0.12,
           1,
           -0.26
          ],
          [
           -0.03,
           -0.12,
           0.07,
           -0.02,
           0.23,
           0.19,
           0.12,
           -0.05,
           -0.04,
           0,
           0.1,
           0.11,
           -0.04,
           -0.26,
           1
          ]
         ],
         "type": "heatmap",
         "x": [
          "sex",
          "address",
          "famsize",
          "Pstatus",
          "Medu",
          "Fedu",
          "Mjob",
          "Fjob",
          "guardian",
          "famsup",
          "schoolsup",
          "internet",
          "paid",
          "higher",
          "Final_G"
         ],
         "y": [
          "sex",
          "address",
          "famsize",
          "Pstatus",
          "Medu",
          "Fedu",
          "Mjob",
          "Fjob",
          "guardian",
          "famsup",
          "schoolsup",
          "internet",
          "paid",
          "higher",
          "Final_G"
         ],
         "z": [
          [
           1,
           -0.011556194146306877,
           0.09436125033084433,
           0.0513369239591806,
           0.10938678516714175,
           0.07078624788419338,
           0.16995896712894112,
           -0.059711899406895544,
           0.006986999891821171,
           -0.13769584897769685,
           0.11941131663734508,
           0.06267097266751372,
           -0.0021788305181885885,
           0.07877466529186679,
           -0.025396074546916277
          ],
          [
           -0.011556194146306877,
           1,
           -0.0544836771458189,
           0.07409732218309666,
           -0.1797200451847561,
           -0.12430333557215086,
           -0.14846960251379804,
           -0.045735918606153995,
           -0.011229954047871747,
           -0.011974827375742082,
           0.023582746931487823,
           -0.19479047424888712,
           -0.05302382273685114,
           0.07471577546382785,
           -0.12174346745093755
          ],
          [
           0.09436125033084433,
           -0.0544836771458189,
           1,
           -0.2073021377925238,
           -0.025556415625340913,
           -0.04728998308471959,
           0.03805371563614038,
           0.05595784547043312,
           -0.02415816836342607,
           -0.06733973017614302,
           0.04555249399790565,
           0.008315415176885957,
           -0.02829018481741008,
           -0.00064961631884827,
           0.06792291351579258
          ],
          [
           0.0513369239591806,
           0.07409732218309666,
           -0.2073021377925238,
           1,
           -0.07713257547541968,
           -0.04915552720686823,
           -0.03520610852011257,
           0.02785281639240398,
           0.015103693803284014,
           0.013370083569474034,
           0.020788973564436656,
           0.06526026150751343,
           0.040340698194180215,
           -0.0073386439420584145,
           -0.01871105975511526
          ],
          [
           0.10938678516714175,
           -0.1797200451847561,
           -0.025556415625340913,
           -0.07713257547541968,
           1,
           0.6420631457185746,
           0.46250874409501525,
           -0.0963480576446462,
           -0.11671259947400296,
           0.14306311133521582,
           0.023617841738672842,
           0.2497279650607445,
           0.1613491652042774,
           -0.20655126884387395,
           0.22828506284857825
          ],
          [
           0.07078624788419338,
           -0.12430333557215086,
           -0.04728998308471959,
           -0.04915552720686823,
           0.6420631457185746,
           1,
           0.27921805526392357,
           -0.061060388509792264,
           0.004411256372975165,
           0.1533424199932319,
           -0.03244950355635452,
           0.17001154172040392,
           0.11889687558371541,
           -0.19195563885771844,
           0.18718249048134727
          ],
          [
           0.16995896712894112,
           -0.14846960251379804,
           0.03805371563614038,
           -0.03520610852011257,
           0.46250874409501525,
           0.27921805526392357,
           1,
           -0.0888162561523852,
           -0.09043727639235638,
           0.043027523445904936,
           0.008007621889957192,
           0.2504875450405247,
           0.09039892354620371,
           -0.13914230130474928,
           0.12005115052253967
          ],
          [
           -0.059711899406895544,
           -0.045735918606153995,
           0.05595784547043312,
           0.02785281639240398,
           -0.0963480576446462,
           -0.061060388509792264,
           -0.0888162561523852,
           1,
           0.06893621956482285,
           0.04494371869101358,
           -0.0019358596943346773,
           -0.023918601742739465,
           0.009636342883048321,
           0.05264268897713933,
           -0.04956643966539205
          ],
          [
           0.006986999891821171,
           -0.011229954047871747,
           -0.02415816836342607,
           0.015103693803284014,
           -0.11671259947400296,
           0.004411256372975165,
           -0.09043727639235638,
           0.06893621956482285,
           1,
           0.033887540145229086,
           0.006607837448457507,
           0.018751052638273813,
           -0.019109341468498454,
           0.09448948033072886,
           -0.03915859929317755
          ],
          [
           -0.13769584897769685,
           -0.011974827375742082,
           -0.06733973017614302,
           0.013370083569474034,
           0.14306311133521582,
           0.1533424199932319,
           0.043027523445904936,
           0.04494371869101358,
           0.033887540145229086,
           1,
           -0.08694525482485782,
           0.08252219103567823,
           0.16942352415237116,
           -0.08844872602279674,
           0.0010631939410719442
          ],
          [
           0.11941131663734508,
           0.023582746931487823,
           0.04555249399790565,
           0.020788973564436656,
           0.023617841738672842,
           -0.03244950355635452,
           0.008007621889957192,
           -0.0019358596943346773,
           0.006607837448457507,
           -0.08694525482485782,
           1,
           0.01682690242252619,
           -0.02160554550201838,
           0.07711512572402666,
           0.10194011183661156
          ],
          [
           0.06267097266751372,
           -0.19479047424888712,
           0.008315415176885957,
           0.06526026150751343,
           0.2497279650607445,
           0.17001154172040392,
           0.2504875450405247,
           -0.023918601742739465,
           0.018751052638273813,
           0.08252219103567823,
           0.01682690242252619,
           1,
           0.11418927489827056,
           -0.06340710328384098,
           0.11486341138658647
          ],
          [
           -0.0021788305181885885,
           -0.05302382273685114,
           -0.02829018481741008,
           0.040340698194180215,
           0.1613491652042774,
           0.11889687558371541,
           0.09039892354620371,
           0.009636342883048321,
           -0.019109341468498454,
           0.16942352415237116,
           -0.02160554550201838,
           0.11418927489827056,
           1,
           -0.12409716912129425,
           -0.04110095684864387
          ],
          [
           0.07877466529186679,
           0.07471577546382785,
           -0.00064961631884827,
           -0.0073386439420584145,
           -0.20655126884387395,
           -0.19195563885771844,
           -0.13914230130474928,
           0.05264268897713933,
           0.09448948033072886,
           -0.08844872602279674,
           0.07711512572402666,
           -0.06340710328384098,
           -0.12409716912129425,
           1,
           -0.262818947743388
          ],
          [
           -0.025396074546916277,
           -0.12174346745093755,
           0.06792291351579258,
           -0.01871105975511526,
           0.22828506284857825,
           0.18718249048134727,
           0.12005115052253967,
           -0.04956643966539205,
           -0.03915859929317755,
           0.0010631939410719442,
           0.10194011183661156,
           0.11486341138658647,
           -0.04110095684864387,
           -0.262818947743388,
           1
          ]
         ]
        }
       ],
       "layout": {
        "annotations": [
         {
          "font": {
           "color": "white"
          },
          "showarrow": false,
          "text": "-0.01",
          "x": 0,
          "y": 1
         },
         {
          "font": {
           "color": "white"
          },
          "showarrow": false,
          "text": "0.09",
          "x": 0,
          "y": 2
         },
         {
          "font": {
           "color": "white"
          },
          "showarrow": false,
          "text": "-0.05",
          "x": 1,
          "y": 2
         },
         {
          "font": {
           "color": "white"
          },
          "showarrow": false,
          "text": "0.05",
          "x": 0,
          "y": 3
         },
         {
          "font": {
           "color": "white"
          },
          "showarrow": false,
          "text": "0.07",
          "x": 1,
          "y": 3
         },
         {
          "font": {
           "color": "white"
          },
          "showarrow": false,
          "text": "-0.21",
          "x": 2,
          "y": 3
         },
         {
          "font": {
           "color": "white"
          },
          "showarrow": false,
          "text": "0.11",
          "x": 0,
          "y": 4
         },
         {
          "font": {
           "color": "white"
          },
          "showarrow": false,
          "text": "-0.18",
          "x": 1,
          "y": 4
         },
         {
          "font": {
           "color": "white"
          },
          "showarrow": false,
          "text": "-0.03",
          "x": 2,
          "y": 4
         },
         {
          "font": {
           "color": "white"
          },
          "showarrow": false,
          "text": "-0.08",
          "x": 3,
          "y": 4
         },
         {
          "font": {
           "color": "white"
          },
          "showarrow": false,
          "text": "0.07",
          "x": 0,
          "y": 5
         },
         {
          "font": {
           "color": "white"
          },
          "showarrow": false,
          "text": "-0.12",
          "x": 1,
          "y": 5
         },
         {
          "font": {
           "color": "white"
          },
          "showarrow": false,
          "text": "-0.05",
          "x": 2,
          "y": 5
         },
         {
          "font": {
           "color": "white"
          },
          "showarrow": false,
          "text": "-0.05",
          "x": 3,
          "y": 5
         },
         {
          "font": {
           "color": "white"
          },
          "showarrow": false,
          "text": "0.64",
          "x": 4,
          "y": 5
         },
         {
          "font": {
           "color": "white"
          },
          "showarrow": false,
          "text": "0.17",
          "x": 0,
          "y": 6
         },
         {
          "font": {
           "color": "white"
          },
          "showarrow": false,
          "text": "-0.15",
          "x": 1,
          "y": 6
         },
         {
          "font": {
           "color": "white"
          },
          "showarrow": false,
          "text": "0.04",
          "x": 2,
          "y": 6
         },
         {
          "font": {
           "color": "white"
          },
          "showarrow": false,
          "text": "-0.04",
          "x": 3,
          "y": 6
         },
         {
          "font": {
           "color": "white"
          },
          "showarrow": false,
          "text": "0.46",
          "x": 4,
          "y": 6
         },
         {
          "font": {
           "color": "white"
          },
          "showarrow": false,
          "text": "0.28",
          "x": 5,
          "y": 6
         },
         {
          "font": {
           "color": "white"
          },
          "showarrow": false,
          "text": "-0.06",
          "x": 0,
          "y": 7
         },
         {
          "font": {
           "color": "white"
          },
          "showarrow": false,
          "text": "-0.05",
          "x": 1,
          "y": 7
         },
         {
          "font": {
           "color": "white"
          },
          "showarrow": false,
          "text": "0.06",
          "x": 2,
          "y": 7
         },
         {
          "font": {
           "color": "white"
          },
          "showarrow": false,
          "text": "0.03",
          "x": 3,
          "y": 7
         },
         {
          "font": {
           "color": "white"
          },
          "showarrow": false,
          "text": "-0.1",
          "x": 4,
          "y": 7
         },
         {
          "font": {
           "color": "white"
          },
          "showarrow": false,
          "text": "-0.06",
          "x": 5,
          "y": 7
         },
         {
          "font": {
           "color": "white"
          },
          "showarrow": false,
          "text": "-0.09",
          "x": 6,
          "y": 7
         },
         {
          "font": {
           "color": "white"
          },
          "showarrow": false,
          "text": "0.01",
          "x": 0,
          "y": 8
         },
         {
          "font": {
           "color": "white"
          },
          "showarrow": false,
          "text": "-0.01",
          "x": 1,
          "y": 8
         },
         {
          "font": {
           "color": "white"
          },
          "showarrow": false,
          "text": "-0.02",
          "x": 2,
          "y": 8
         },
         {
          "font": {
           "color": "white"
          },
          "showarrow": false,
          "text": "0.02",
          "x": 3,
          "y": 8
         },
         {
          "font": {
           "color": "white"
          },
          "showarrow": false,
          "text": "-0.12",
          "x": 4,
          "y": 8
         },
         {
          "font": {
           "color": "white"
          },
          "showarrow": false,
          "text": "0.0",
          "x": 5,
          "y": 8
         },
         {
          "font": {
           "color": "white"
          },
          "showarrow": false,
          "text": "-0.09",
          "x": 6,
          "y": 8
         },
         {
          "font": {
           "color": "white"
          },
          "showarrow": false,
          "text": "0.07",
          "x": 7,
          "y": 8
         },
         {
          "font": {
           "color": "white"
          },
          "showarrow": false,
          "text": "-0.14",
          "x": 0,
          "y": 9
         },
         {
          "font": {
           "color": "white"
          },
          "showarrow": false,
          "text": "-0.01",
          "x": 1,
          "y": 9
         },
         {
          "font": {
           "color": "white"
          },
          "showarrow": false,
          "text": "-0.07",
          "x": 2,
          "y": 9
         },
         {
          "font": {
           "color": "white"
          },
          "showarrow": false,
          "text": "0.01",
          "x": 3,
          "y": 9
         },
         {
          "font": {
           "color": "white"
          },
          "showarrow": false,
          "text": "0.14",
          "x": 4,
          "y": 9
         },
         {
          "font": {
           "color": "white"
          },
          "showarrow": false,
          "text": "0.15",
          "x": 5,
          "y": 9
         },
         {
          "font": {
           "color": "white"
          },
          "showarrow": false,
          "text": "0.04",
          "x": 6,
          "y": 9
         },
         {
          "font": {
           "color": "white"
          },
          "showarrow": false,
          "text": "0.04",
          "x": 7,
          "y": 9
         },
         {
          "font": {
           "color": "white"
          },
          "showarrow": false,
          "text": "0.03",
          "x": 8,
          "y": 9
         },
         {
          "font": {
           "color": "white"
          },
          "showarrow": false,
          "text": "0.12",
          "x": 0,
          "y": 10
         },
         {
          "font": {
           "color": "white"
          },
          "showarrow": false,
          "text": "0.02",
          "x": 1,
          "y": 10
         },
         {
          "font": {
           "color": "white"
          },
          "showarrow": false,
          "text": "0.05",
          "x": 2,
          "y": 10
         },
         {
          "font": {
           "color": "white"
          },
          "showarrow": false,
          "text": "0.02",
          "x": 3,
          "y": 10
         },
         {
          "font": {
           "color": "white"
          },
          "showarrow": false,
          "text": "0.02",
          "x": 4,
          "y": 10
         },
         {
          "font": {
           "color": "white"
          },
          "showarrow": false,
          "text": "-0.03",
          "x": 5,
          "y": 10
         },
         {
          "font": {
           "color": "white"
          },
          "showarrow": false,
          "text": "0.01",
          "x": 6,
          "y": 10
         },
         {
          "font": {
           "color": "white"
          },
          "showarrow": false,
          "text": "-0.0",
          "x": 7,
          "y": 10
         },
         {
          "font": {
           "color": "white"
          },
          "showarrow": false,
          "text": "0.01",
          "x": 8,
          "y": 10
         },
         {
          "font": {
           "color": "white"
          },
          "showarrow": false,
          "text": "-0.09",
          "x": 9,
          "y": 10
         },
         {
          "font": {
           "color": "white"
          },
          "showarrow": false,
          "text": "0.06",
          "x": 0,
          "y": 11
         },
         {
          "font": {
           "color": "white"
          },
          "showarrow": false,
          "text": "-0.19",
          "x": 1,
          "y": 11
         },
         {
          "font": {
           "color": "white"
          },
          "showarrow": false,
          "text": "0.01",
          "x": 2,
          "y": 11
         },
         {
          "font": {
           "color": "white"
          },
          "showarrow": false,
          "text": "0.07",
          "x": 3,
          "y": 11
         },
         {
          "font": {
           "color": "white"
          },
          "showarrow": false,
          "text": "0.25",
          "x": 4,
          "y": 11
         },
         {
          "font": {
           "color": "white"
          },
          "showarrow": false,
          "text": "0.17",
          "x": 5,
          "y": 11
         },
         {
          "font": {
           "color": "white"
          },
          "showarrow": false,
          "text": "0.25",
          "x": 6,
          "y": 11
         },
         {
          "font": {
           "color": "white"
          },
          "showarrow": false,
          "text": "-0.02",
          "x": 7,
          "y": 11
         },
         {
          "font": {
           "color": "white"
          },
          "showarrow": false,
          "text": "0.02",
          "x": 8,
          "y": 11
         },
         {
          "font": {
           "color": "white"
          },
          "showarrow": false,
          "text": "0.08",
          "x": 9,
          "y": 11
         },
         {
          "font": {
           "color": "white"
          },
          "showarrow": false,
          "text": "0.02",
          "x": 10,
          "y": 11
         },
         {
          "font": {
           "color": "white"
          },
          "showarrow": false,
          "text": "-0.0",
          "x": 0,
          "y": 12
         },
         {
          "font": {
           "color": "white"
          },
          "showarrow": false,
          "text": "-0.05",
          "x": 1,
          "y": 12
         },
         {
          "font": {
           "color": "white"
          },
          "showarrow": false,
          "text": "-0.03",
          "x": 2,
          "y": 12
         },
         {
          "font": {
           "color": "white"
          },
          "showarrow": false,
          "text": "0.04",
          "x": 3,
          "y": 12
         },
         {
          "font": {
           "color": "white"
          },
          "showarrow": false,
          "text": "0.16",
          "x": 4,
          "y": 12
         },
         {
          "font": {
           "color": "white"
          },
          "showarrow": false,
          "text": "0.12",
          "x": 5,
          "y": 12
         },
         {
          "font": {
           "color": "white"
          },
          "showarrow": false,
          "text": "0.09",
          "x": 6,
          "y": 12
         },
         {
          "font": {
           "color": "white"
          },
          "showarrow": false,
          "text": "0.01",
          "x": 7,
          "y": 12
         },
         {
          "font": {
           "color": "white"
          },
          "showarrow": false,
          "text": "-0.02",
          "x": 8,
          "y": 12
         },
         {
          "font": {
           "color": "white"
          },
          "showarrow": false,
          "text": "0.17",
          "x": 9,
          "y": 12
         },
         {
          "font": {
           "color": "white"
          },
          "showarrow": false,
          "text": "-0.02",
          "x": 10,
          "y": 12
         },
         {
          "font": {
           "color": "white"
          },
          "showarrow": false,
          "text": "0.11",
          "x": 11,
          "y": 12
         },
         {
          "font": {
           "color": "white"
          },
          "showarrow": false,
          "text": "0.08",
          "x": 0,
          "y": 13
         },
         {
          "font": {
           "color": "white"
          },
          "showarrow": false,
          "text": "0.07",
          "x": 1,
          "y": 13
         },
         {
          "font": {
           "color": "white"
          },
          "showarrow": false,
          "text": "-0.0",
          "x": 2,
          "y": 13
         },
         {
          "font": {
           "color": "white"
          },
          "showarrow": false,
          "text": "-0.01",
          "x": 3,
          "y": 13
         },
         {
          "font": {
           "color": "white"
          },
          "showarrow": false,
          "text": "-0.21",
          "x": 4,
          "y": 13
         },
         {
          "font": {
           "color": "white"
          },
          "showarrow": false,
          "text": "-0.19",
          "x": 5,
          "y": 13
         },
         {
          "font": {
           "color": "white"
          },
          "showarrow": false,
          "text": "-0.14",
          "x": 6,
          "y": 13
         },
         {
          "font": {
           "color": "white"
          },
          "showarrow": false,
          "text": "0.05",
          "x": 7,
          "y": 13
         },
         {
          "font": {
           "color": "white"
          },
          "showarrow": false,
          "text": "0.09",
          "x": 8,
          "y": 13
         },
         {
          "font": {
           "color": "white"
          },
          "showarrow": false,
          "text": "-0.09",
          "x": 9,
          "y": 13
         },
         {
          "font": {
           "color": "white"
          },
          "showarrow": false,
          "text": "0.08",
          "x": 10,
          "y": 13
         },
         {
          "font": {
           "color": "white"
          },
          "showarrow": false,
          "text": "-0.06",
          "x": 11,
          "y": 13
         },
         {
          "font": {
           "color": "white"
          },
          "showarrow": false,
          "text": "-0.12",
          "x": 12,
          "y": 13
         },
         {
          "font": {
           "color": "white"
          },
          "showarrow": false,
          "text": "-0.03",
          "x": 0,
          "y": 14
         },
         {
          "font": {
           "color": "white"
          },
          "showarrow": false,
          "text": "-0.12",
          "x": 1,
          "y": 14
         },
         {
          "font": {
           "color": "white"
          },
          "showarrow": false,
          "text": "0.07",
          "x": 2,
          "y": 14
         },
         {
          "font": {
           "color": "white"
          },
          "showarrow": false,
          "text": "-0.02",
          "x": 3,
          "y": 14
         },
         {
          "font": {
           "color": "white"
          },
          "showarrow": false,
          "text": "0.23",
          "x": 4,
          "y": 14
         },
         {
          "font": {
           "color": "white"
          },
          "showarrow": false,
          "text": "0.19",
          "x": 5,
          "y": 14
         },
         {
          "font": {
           "color": "white"
          },
          "showarrow": false,
          "text": "0.12",
          "x": 6,
          "y": 14
         },
         {
          "font": {
           "color": "white"
          },
          "showarrow": false,
          "text": "-0.05",
          "x": 7,
          "y": 14
         },
         {
          "font": {
           "color": "white"
          },
          "showarrow": false,
          "text": "-0.04",
          "x": 8,
          "y": 14
         },
         {
          "font": {
           "color": "white"
          },
          "showarrow": false,
          "text": "0.0",
          "x": 9,
          "y": 14
         },
         {
          "font": {
           "color": "white"
          },
          "showarrow": false,
          "text": "0.1",
          "x": 10,
          "y": 14
         },
         {
          "font": {
           "color": "white"
          },
          "showarrow": false,
          "text": "0.11",
          "x": 11,
          "y": 14
         },
         {
          "font": {
           "color": "white"
          },
          "showarrow": false,
          "text": "-0.04",
          "x": 12,
          "y": 14
         },
         {
          "font": {
           "color": "white"
          },
          "showarrow": false,
          "text": "-0.26",
          "x": 13,
          "y": 14
         }
        ],
        "template": {
         "data": {
          "bar": [
           {
            "error_x": {
             "color": "#2a3f5f"
            },
            "error_y": {
             "color": "#2a3f5f"
            },
            "marker": {
             "line": {
              "color": "#E5ECF6",
              "width": 0.5
             },
             "pattern": {
              "fillmode": "overlay",
              "size": 10,
              "solidity": 0.2
             }
            },
            "type": "bar"
           }
          ],
          "barpolar": [
           {
            "marker": {
             "line": {
              "color": "#E5ECF6",
              "width": 0.5
             },
             "pattern": {
              "fillmode": "overlay",
              "size": 10,
              "solidity": 0.2
             }
            },
            "type": "barpolar"
           }
          ],
          "carpet": [
           {
            "aaxis": {
             "endlinecolor": "#2a3f5f",
             "gridcolor": "white",
             "linecolor": "white",
             "minorgridcolor": "white",
             "startlinecolor": "#2a3f5f"
            },
            "baxis": {
             "endlinecolor": "#2a3f5f",
             "gridcolor": "white",
             "linecolor": "white",
             "minorgridcolor": "white",
             "startlinecolor": "#2a3f5f"
            },
            "type": "carpet"
           }
          ],
          "choropleth": [
           {
            "colorbar": {
             "outlinewidth": 0,
             "ticks": ""
            },
            "type": "choropleth"
           }
          ],
          "contour": [
           {
            "colorbar": {
             "outlinewidth": 0,
             "ticks": ""
            },
            "colorscale": [
             [
              0,
              "#0d0887"
             ],
             [
              0.1111111111111111,
              "#46039f"
             ],
             [
              0.2222222222222222,
              "#7201a8"
             ],
             [
              0.3333333333333333,
              "#9c179e"
             ],
             [
              0.4444444444444444,
              "#bd3786"
             ],
             [
              0.5555555555555556,
              "#d8576b"
             ],
             [
              0.6666666666666666,
              "#ed7953"
             ],
             [
              0.7777777777777778,
              "#fb9f3a"
             ],
             [
              0.8888888888888888,
              "#fdca26"
             ],
             [
              1,
              "#f0f921"
             ]
            ],
            "type": "contour"
           }
          ],
          "contourcarpet": [
           {
            "colorbar": {
             "outlinewidth": 0,
             "ticks": ""
            },
            "type": "contourcarpet"
           }
          ],
          "heatmap": [
           {
            "colorbar": {
             "outlinewidth": 0,
             "ticks": ""
            },
            "colorscale": [
             [
              0,
              "#0d0887"
             ],
             [
              0.1111111111111111,
              "#46039f"
             ],
             [
              0.2222222222222222,
              "#7201a8"
             ],
             [
              0.3333333333333333,
              "#9c179e"
             ],
             [
              0.4444444444444444,
              "#bd3786"
             ],
             [
              0.5555555555555556,
              "#d8576b"
             ],
             [
              0.6666666666666666,
              "#ed7953"
             ],
             [
              0.7777777777777778,
              "#fb9f3a"
             ],
             [
              0.8888888888888888,
              "#fdca26"
             ],
             [
              1,
              "#f0f921"
             ]
            ],
            "type": "heatmap"
           }
          ],
          "heatmapgl": [
           {
            "colorbar": {
             "outlinewidth": 0,
             "ticks": ""
            },
            "colorscale": [
             [
              0,
              "#0d0887"
             ],
             [
              0.1111111111111111,
              "#46039f"
             ],
             [
              0.2222222222222222,
              "#7201a8"
             ],
             [
              0.3333333333333333,
              "#9c179e"
             ],
             [
              0.4444444444444444,
              "#bd3786"
             ],
             [
              0.5555555555555556,
              "#d8576b"
             ],
             [
              0.6666666666666666,
              "#ed7953"
             ],
             [
              0.7777777777777778,
              "#fb9f3a"
             ],
             [
              0.8888888888888888,
              "#fdca26"
             ],
             [
              1,
              "#f0f921"
             ]
            ],
            "type": "heatmapgl"
           }
          ],
          "histogram": [
           {
            "marker": {
             "pattern": {
              "fillmode": "overlay",
              "size": 10,
              "solidity": 0.2
             }
            },
            "type": "histogram"
           }
          ],
          "histogram2d": [
           {
            "colorbar": {
             "outlinewidth": 0,
             "ticks": ""
            },
            "colorscale": [
             [
              0,
              "#0d0887"
             ],
             [
              0.1111111111111111,
              "#46039f"
             ],
             [
              0.2222222222222222,
              "#7201a8"
             ],
             [
              0.3333333333333333,
              "#9c179e"
             ],
             [
              0.4444444444444444,
              "#bd3786"
             ],
             [
              0.5555555555555556,
              "#d8576b"
             ],
             [
              0.6666666666666666,
              "#ed7953"
             ],
             [
              0.7777777777777778,
              "#fb9f3a"
             ],
             [
              0.8888888888888888,
              "#fdca26"
             ],
             [
              1,
              "#f0f921"
             ]
            ],
            "type": "histogram2d"
           }
          ],
          "histogram2dcontour": [
           {
            "colorbar": {
             "outlinewidth": 0,
             "ticks": ""
            },
            "colorscale": [
             [
              0,
              "#0d0887"
             ],
             [
              0.1111111111111111,
              "#46039f"
             ],
             [
              0.2222222222222222,
              "#7201a8"
             ],
             [
              0.3333333333333333,
              "#9c179e"
             ],
             [
              0.4444444444444444,
              "#bd3786"
             ],
             [
              0.5555555555555556,
              "#d8576b"
             ],
             [
              0.6666666666666666,
              "#ed7953"
             ],
             [
              0.7777777777777778,
              "#fb9f3a"
             ],
             [
              0.8888888888888888,
              "#fdca26"
             ],
             [
              1,
              "#f0f921"
             ]
            ],
            "type": "histogram2dcontour"
           }
          ],
          "mesh3d": [
           {
            "colorbar": {
             "outlinewidth": 0,
             "ticks": ""
            },
            "type": "mesh3d"
           }
          ],
          "parcoords": [
           {
            "line": {
             "colorbar": {
              "outlinewidth": 0,
              "ticks": ""
             }
            },
            "type": "parcoords"
           }
          ],
          "pie": [
           {
            "automargin": true,
            "type": "pie"
           }
          ],
          "scatter": [
           {
            "fillpattern": {
             "fillmode": "overlay",
             "size": 10,
             "solidity": 0.2
            },
            "type": "scatter"
           }
          ],
          "scatter3d": [
           {
            "line": {
             "colorbar": {
              "outlinewidth": 0,
              "ticks": ""
             }
            },
            "marker": {
             "colorbar": {
              "outlinewidth": 0,
              "ticks": ""
             }
            },
            "type": "scatter3d"
           }
          ],
          "scattercarpet": [
           {
            "marker": {
             "colorbar": {
              "outlinewidth": 0,
              "ticks": ""
             }
            },
            "type": "scattercarpet"
           }
          ],
          "scattergeo": [
           {
            "marker": {
             "colorbar": {
              "outlinewidth": 0,
              "ticks": ""
             }
            },
            "type": "scattergeo"
           }
          ],
          "scattergl": [
           {
            "marker": {
             "colorbar": {
              "outlinewidth": 0,
              "ticks": ""
             }
            },
            "type": "scattergl"
           }
          ],
          "scattermapbox": [
           {
            "marker": {
             "colorbar": {
              "outlinewidth": 0,
              "ticks": ""
             }
            },
            "type": "scattermapbox"
           }
          ],
          "scatterpolar": [
           {
            "marker": {
             "colorbar": {
              "outlinewidth": 0,
              "ticks": ""
             }
            },
            "type": "scatterpolar"
           }
          ],
          "scatterpolargl": [
           {
            "marker": {
             "colorbar": {
              "outlinewidth": 0,
              "ticks": ""
             }
            },
            "type": "scatterpolargl"
           }
          ],
          "scatterternary": [
           {
            "marker": {
             "colorbar": {
              "outlinewidth": 0,
              "ticks": ""
             }
            },
            "type": "scatterternary"
           }
          ],
          "surface": [
           {
            "colorbar": {
             "outlinewidth": 0,
             "ticks": ""
            },
            "colorscale": [
             [
              0,
              "#0d0887"
             ],
             [
              0.1111111111111111,
              "#46039f"
             ],
             [
              0.2222222222222222,
              "#7201a8"
             ],
             [
              0.3333333333333333,
              "#9c179e"
             ],
             [
              0.4444444444444444,
              "#bd3786"
             ],
             [
              0.5555555555555556,
              "#d8576b"
             ],
             [
              0.6666666666666666,
              "#ed7953"
             ],
             [
              0.7777777777777778,
              "#fb9f3a"
             ],
             [
              0.8888888888888888,
              "#fdca26"
             ],
             [
              1,
              "#f0f921"
             ]
            ],
            "type": "surface"
           }
          ],
          "table": [
           {
            "cells": {
             "fill": {
              "color": "#EBF0F8"
             },
             "line": {
              "color": "white"
             }
            },
            "header": {
             "fill": {
              "color": "#C8D4E3"
             },
             "line": {
              "color": "white"
             }
            },
            "type": "table"
           }
          ]
         },
         "layout": {
          "annotationdefaults": {
           "arrowcolor": "#2a3f5f",
           "arrowhead": 0,
           "arrowwidth": 1
          },
          "autotypenumbers": "strict",
          "coloraxis": {
           "colorbar": {
            "outlinewidth": 0,
            "ticks": ""
           }
          },
          "colorscale": {
           "diverging": [
            [
             0,
             "#8e0152"
            ],
            [
             0.1,
             "#c51b7d"
            ],
            [
             0.2,
             "#de77ae"
            ],
            [
             0.3,
             "#f1b6da"
            ],
            [
             0.4,
             "#fde0ef"
            ],
            [
             0.5,
             "#f7f7f7"
            ],
            [
             0.6,
             "#e6f5d0"
            ],
            [
             0.7,
             "#b8e186"
            ],
            [
             0.8,
             "#7fbc41"
            ],
            [
             0.9,
             "#4d9221"
            ],
            [
             1,
             "#276419"
            ]
           ],
           "sequential": [
            [
             0,
             "#0d0887"
            ],
            [
             0.1111111111111111,
             "#46039f"
            ],
            [
             0.2222222222222222,
             "#7201a8"
            ],
            [
             0.3333333333333333,
             "#9c179e"
            ],
            [
             0.4444444444444444,
             "#bd3786"
            ],
            [
             0.5555555555555556,
             "#d8576b"
            ],
            [
             0.6666666666666666,
             "#ed7953"
            ],
            [
             0.7777777777777778,
             "#fb9f3a"
            ],
            [
             0.8888888888888888,
             "#fdca26"
            ],
            [
             1,
             "#f0f921"
            ]
           ],
           "sequentialminus": [
            [
             0,
             "#0d0887"
            ],
            [
             0.1111111111111111,
             "#46039f"
            ],
            [
             0.2222222222222222,
             "#7201a8"
            ],
            [
             0.3333333333333333,
             "#9c179e"
            ],
            [
             0.4444444444444444,
             "#bd3786"
            ],
            [
             0.5555555555555556,
             "#d8576b"
            ],
            [
             0.6666666666666666,
             "#ed7953"
            ],
            [
             0.7777777777777778,
             "#fb9f3a"
            ],
            [
             0.8888888888888888,
             "#fdca26"
            ],
            [
             1,
             "#f0f921"
            ]
           ]
          },
          "colorway": [
           "#636efa",
           "#EF553B",
           "#00cc96",
           "#ab63fa",
           "#FFA15A",
           "#19d3f3",
           "#FF6692",
           "#B6E880",
           "#FF97FF",
           "#FECB52"
          ],
          "font": {
           "color": "#2a3f5f"
          },
          "geo": {
           "bgcolor": "white",
           "lakecolor": "white",
           "landcolor": "#E5ECF6",
           "showlakes": true,
           "showland": true,
           "subunitcolor": "white"
          },
          "hoverlabel": {
           "align": "left"
          },
          "hovermode": "closest",
          "mapbox": {
           "style": "light"
          },
          "paper_bgcolor": "white",
          "plot_bgcolor": "#E5ECF6",
          "polar": {
           "angularaxis": {
            "gridcolor": "white",
            "linecolor": "white",
            "ticks": ""
           },
           "bgcolor": "#E5ECF6",
           "radialaxis": {
            "gridcolor": "white",
            "linecolor": "white",
            "ticks": ""
           }
          },
          "scene": {
           "xaxis": {
            "backgroundcolor": "#E5ECF6",
            "gridcolor": "white",
            "gridwidth": 2,
            "linecolor": "white",
            "showbackground": true,
            "ticks": "",
            "zerolinecolor": "white"
           },
           "yaxis": {
            "backgroundcolor": "#E5ECF6",
            "gridcolor": "white",
            "gridwidth": 2,
            "linecolor": "white",
            "showbackground": true,
            "ticks": "",
            "zerolinecolor": "white"
           },
           "zaxis": {
            "backgroundcolor": "#E5ECF6",
            "gridcolor": "white",
            "gridwidth": 2,
            "linecolor": "white",
            "showbackground": true,
            "ticks": "",
            "zerolinecolor": "white"
           }
          },
          "shapedefaults": {
           "line": {
            "color": "#2a3f5f"
           }
          },
          "ternary": {
           "aaxis": {
            "gridcolor": "white",
            "linecolor": "white",
            "ticks": ""
           },
           "baxis": {
            "gridcolor": "white",
            "linecolor": "white",
            "ticks": ""
           },
           "bgcolor": "#E5ECF6",
           "caxis": {
            "gridcolor": "white",
            "linecolor": "white",
            "ticks": ""
           }
          },
          "title": {
           "x": 0.05
          },
          "xaxis": {
           "automargin": true,
           "gridcolor": "white",
           "linecolor": "white",
           "ticks": "",
           "title": {
            "standoff": 15
           },
           "zerolinecolor": "white",
           "zerolinewidth": 2
          },
          "yaxis": {
           "automargin": true,
           "gridcolor": "white",
           "linecolor": "white",
           "ticks": "",
           "title": {
            "standoff": 15
           },
           "zerolinecolor": "white",
           "zerolinewidth": 2
          }
         }
        },
        "title": {
         "text": "Correlation Heatmap"
        },
        "xaxis": {
         "side": "top"
        },
        "yaxis": {
         "title": {
          "text": "Features"
         }
        }
       }
      },
      "text/html": [
       "<div>                            <div id=\"1a5c3a19-65c9-4294-95e4-dfe9b9e93de7\" class=\"plotly-graph-div\" style=\"height:525px; width:100%;\"></div>            <script type=\"text/javascript\">                require([\"plotly\"], function(Plotly) {                    window.PLOTLYENV=window.PLOTLYENV || {};                                    if (document.getElementById(\"1a5c3a19-65c9-4294-95e4-dfe9b9e93de7\")) {                    Plotly.newPlot(                        \"1a5c3a19-65c9-4294-95e4-dfe9b9e93de7\",                        [{\"colorscale\":[[0.0,\"#440154\"],[0.1111111111111111,\"#482878\"],[0.2222222222222222,\"#3e4989\"],[0.3333333333333333,\"#31688e\"],[0.4444444444444444,\"#26828e\"],[0.5555555555555556,\"#1f9e89\"],[0.6666666666666666,\"#35b779\"],[0.7777777777777778,\"#6ece58\"],[0.8888888888888888,\"#b5de2b\"],[1.0,\"#fde725\"]],\"text\":[[1.0,-0.01,0.09,0.05,0.11,0.07,0.17,-0.06,0.01,-0.14,0.12,0.06,-0.0,0.08,-0.03],[-0.01,1.0,-0.05,0.07,-0.18,-0.12,-0.15,-0.05,-0.01,-0.01,0.02,-0.19,-0.05,0.07,-0.12],[0.09,-0.05,1.0,-0.21,-0.03,-0.05,0.04,0.06,-0.02,-0.07,0.05,0.01,-0.03,-0.0,0.07],[0.05,0.07,-0.21,1.0,-0.08,-0.05,-0.04,0.03,0.02,0.01,0.02,0.07,0.04,-0.01,-0.02],[0.11,-0.18,-0.03,-0.08,1.0,0.64,0.46,-0.1,-0.12,0.14,0.02,0.25,0.16,-0.21,0.23],[0.07,-0.12,-0.05,-0.05,0.64,1.0,0.28,-0.06,0.0,0.15,-0.03,0.17,0.12,-0.19,0.19],[0.17,-0.15,0.04,-0.04,0.46,0.28,1.0,-0.09,-0.09,0.04,0.01,0.25,0.09,-0.14,0.12],[-0.06,-0.05,0.06,0.03,-0.1,-0.06,-0.09,1.0,0.07,0.04,-0.0,-0.02,0.01,0.05,-0.05],[0.01,-0.01,-0.02,0.02,-0.12,0.0,-0.09,0.07,1.0,0.03,0.01,0.02,-0.02,0.09,-0.04],[-0.14,-0.01,-0.07,0.01,0.14,0.15,0.04,0.04,0.03,1.0,-0.09,0.08,0.17,-0.09,0.0],[0.12,0.02,0.05,0.02,0.02,-0.03,0.01,-0.0,0.01,-0.09,1.0,0.02,-0.02,0.08,0.1],[0.06,-0.19,0.01,0.07,0.25,0.17,0.25,-0.02,0.02,0.08,0.02,1.0,0.11,-0.06,0.11],[-0.0,-0.05,-0.03,0.04,0.16,0.12,0.09,0.01,-0.02,0.17,-0.02,0.11,1.0,-0.12,-0.04],[0.08,0.07,-0.0,-0.01,-0.21,-0.19,-0.14,0.05,0.09,-0.09,0.08,-0.06,-0.12,1.0,-0.26],[-0.03,-0.12,0.07,-0.02,0.23,0.19,0.12,-0.05,-0.04,0.0,0.1,0.11,-0.04,-0.26,1.0]],\"x\":[\"sex\",\"address\",\"famsize\",\"Pstatus\",\"Medu\",\"Fedu\",\"Mjob\",\"Fjob\",\"guardian\",\"famsup\",\"schoolsup\",\"internet\",\"paid\",\"higher\",\"Final_G\"],\"y\":[\"sex\",\"address\",\"famsize\",\"Pstatus\",\"Medu\",\"Fedu\",\"Mjob\",\"Fjob\",\"guardian\",\"famsup\",\"schoolsup\",\"internet\",\"paid\",\"higher\",\"Final_G\"],\"z\":[[1.0,-0.011556194146306877,0.09436125033084433,0.0513369239591806,0.10938678516714175,0.07078624788419338,0.16995896712894112,-0.059711899406895544,0.006986999891821171,-0.13769584897769685,0.11941131663734508,0.06267097266751372,-0.0021788305181885885,0.07877466529186679,-0.025396074546916277],[-0.011556194146306877,1.0,-0.0544836771458189,0.07409732218309666,-0.1797200451847561,-0.12430333557215086,-0.14846960251379804,-0.045735918606153995,-0.011229954047871747,-0.011974827375742082,0.023582746931487823,-0.19479047424888712,-0.05302382273685114,0.07471577546382785,-0.12174346745093755],[0.09436125033084433,-0.0544836771458189,1.0,-0.2073021377925238,-0.025556415625340913,-0.04728998308471959,0.03805371563614038,0.05595784547043312,-0.02415816836342607,-0.06733973017614302,0.04555249399790565,0.008315415176885957,-0.02829018481741008,-0.00064961631884827,0.06792291351579258],[0.0513369239591806,0.07409732218309666,-0.2073021377925238,1.0,-0.07713257547541968,-0.04915552720686823,-0.03520610852011257,0.02785281639240398,0.015103693803284014,0.013370083569474034,0.020788973564436656,0.06526026150751343,0.040340698194180215,-0.0073386439420584145,-0.01871105975511526],[0.10938678516714175,-0.1797200451847561,-0.025556415625340913,-0.07713257547541968,1.0,0.6420631457185746,0.46250874409501525,-0.0963480576446462,-0.11671259947400296,0.14306311133521582,0.023617841738672842,0.2497279650607445,0.1613491652042774,-0.20655126884387395,0.22828506284857825],[0.07078624788419338,-0.12430333557215086,-0.04728998308471959,-0.04915552720686823,0.6420631457185746,1.0,0.27921805526392357,-0.061060388509792264,0.004411256372975165,0.1533424199932319,-0.03244950355635452,0.17001154172040392,0.11889687558371541,-0.19195563885771844,0.18718249048134727],[0.16995896712894112,-0.14846960251379804,0.03805371563614038,-0.03520610852011257,0.46250874409501525,0.27921805526392357,1.0,-0.0888162561523852,-0.09043727639235638,0.043027523445904936,0.008007621889957192,0.2504875450405247,0.09039892354620371,-0.13914230130474928,0.12005115052253967],[-0.059711899406895544,-0.045735918606153995,0.05595784547043312,0.02785281639240398,-0.0963480576446462,-0.061060388509792264,-0.0888162561523852,1.0,0.06893621956482285,0.04494371869101358,-0.0019358596943346773,-0.023918601742739465,0.009636342883048321,0.05264268897713933,-0.04956643966539205],[0.006986999891821171,-0.011229954047871747,-0.02415816836342607,0.015103693803284014,-0.11671259947400296,0.004411256372975165,-0.09043727639235638,0.06893621956482285,1.0,0.033887540145229086,0.006607837448457507,0.018751052638273813,-0.019109341468498454,0.09448948033072886,-0.03915859929317755],[-0.13769584897769685,-0.011974827375742082,-0.06733973017614302,0.013370083569474034,0.14306311133521582,0.1533424199932319,0.043027523445904936,0.04494371869101358,0.033887540145229086,1.0,-0.08694525482485782,0.08252219103567823,0.16942352415237116,-0.08844872602279674,0.0010631939410719442],[0.11941131663734508,0.023582746931487823,0.04555249399790565,0.020788973564436656,0.023617841738672842,-0.03244950355635452,0.008007621889957192,-0.0019358596943346773,0.006607837448457507,-0.08694525482485782,1.0,0.01682690242252619,-0.02160554550201838,0.07711512572402666,0.10194011183661156],[0.06267097266751372,-0.19479047424888712,0.008315415176885957,0.06526026150751343,0.2497279650607445,0.17001154172040392,0.2504875450405247,-0.023918601742739465,0.018751052638273813,0.08252219103567823,0.01682690242252619,1.0,0.11418927489827056,-0.06340710328384098,0.11486341138658647],[-0.0021788305181885885,-0.05302382273685114,-0.02829018481741008,0.040340698194180215,0.1613491652042774,0.11889687558371541,0.09039892354620371,0.009636342883048321,-0.019109341468498454,0.16942352415237116,-0.02160554550201838,0.11418927489827056,1.0,-0.12409716912129425,-0.04110095684864387],[0.07877466529186679,0.07471577546382785,-0.00064961631884827,-0.0073386439420584145,-0.20655126884387395,-0.19195563885771844,-0.13914230130474928,0.05264268897713933,0.09448948033072886,-0.08844872602279674,0.07711512572402666,-0.06340710328384098,-0.12409716912129425,1.0,-0.262818947743388],[-0.025396074546916277,-0.12174346745093755,0.06792291351579258,-0.01871105975511526,0.22828506284857825,0.18718249048134727,0.12005115052253967,-0.04956643966539205,-0.03915859929317755,0.0010631939410719442,0.10194011183661156,0.11486341138658647,-0.04110095684864387,-0.262818947743388,1.0]],\"type\":\"heatmap\"}],                        {\"template\":{\"data\":{\"histogram2dcontour\":[{\"type\":\"histogram2dcontour\",\"colorbar\":{\"outlinewidth\":0,\"ticks\":\"\"},\"colorscale\":[[0.0,\"#0d0887\"],[0.1111111111111111,\"#46039f\"],[0.2222222222222222,\"#7201a8\"],[0.3333333333333333,\"#9c179e\"],[0.4444444444444444,\"#bd3786\"],[0.5555555555555556,\"#d8576b\"],[0.6666666666666666,\"#ed7953\"],[0.7777777777777778,\"#fb9f3a\"],[0.8888888888888888,\"#fdca26\"],[1.0,\"#f0f921\"]]}],\"choropleth\":[{\"type\":\"choropleth\",\"colorbar\":{\"outlinewidth\":0,\"ticks\":\"\"}}],\"histogram2d\":[{\"type\":\"histogram2d\",\"colorbar\":{\"outlinewidth\":0,\"ticks\":\"\"},\"colorscale\":[[0.0,\"#0d0887\"],[0.1111111111111111,\"#46039f\"],[0.2222222222222222,\"#7201a8\"],[0.3333333333333333,\"#9c179e\"],[0.4444444444444444,\"#bd3786\"],[0.5555555555555556,\"#d8576b\"],[0.6666666666666666,\"#ed7953\"],[0.7777777777777778,\"#fb9f3a\"],[0.8888888888888888,\"#fdca26\"],[1.0,\"#f0f921\"]]}],\"heatmap\":[{\"type\":\"heatmap\",\"colorbar\":{\"outlinewidth\":0,\"ticks\":\"\"},\"colorscale\":[[0.0,\"#0d0887\"],[0.1111111111111111,\"#46039f\"],[0.2222222222222222,\"#7201a8\"],[0.3333333333333333,\"#9c179e\"],[0.4444444444444444,\"#bd3786\"],[0.5555555555555556,\"#d8576b\"],[0.6666666666666666,\"#ed7953\"],[0.7777777777777778,\"#fb9f3a\"],[0.8888888888888888,\"#fdca26\"],[1.0,\"#f0f921\"]]}],\"heatmapgl\":[{\"type\":\"heatmapgl\",\"colorbar\":{\"outlinewidth\":0,\"ticks\":\"\"},\"colorscale\":[[0.0,\"#0d0887\"],[0.1111111111111111,\"#46039f\"],[0.2222222222222222,\"#7201a8\"],[0.3333333333333333,\"#9c179e\"],[0.4444444444444444,\"#bd3786\"],[0.5555555555555556,\"#d8576b\"],[0.6666666666666666,\"#ed7953\"],[0.7777777777777778,\"#fb9f3a\"],[0.8888888888888888,\"#fdca26\"],[1.0,\"#f0f921\"]]}],\"contourcarpet\":[{\"type\":\"contourcarpet\",\"colorbar\":{\"outlinewidth\":0,\"ticks\":\"\"}}],\"contour\":[{\"type\":\"contour\",\"colorbar\":{\"outlinewidth\":0,\"ticks\":\"\"},\"colorscale\":[[0.0,\"#0d0887\"],[0.1111111111111111,\"#46039f\"],[0.2222222222222222,\"#7201a8\"],[0.3333333333333333,\"#9c179e\"],[0.4444444444444444,\"#bd3786\"],[0.5555555555555556,\"#d8576b\"],[0.6666666666666666,\"#ed7953\"],[0.7777777777777778,\"#fb9f3a\"],[0.8888888888888888,\"#fdca26\"],[1.0,\"#f0f921\"]]}],\"surface\":[{\"type\":\"surface\",\"colorbar\":{\"outlinewidth\":0,\"ticks\":\"\"},\"colorscale\":[[0.0,\"#0d0887\"],[0.1111111111111111,\"#46039f\"],[0.2222222222222222,\"#7201a8\"],[0.3333333333333333,\"#9c179e\"],[0.4444444444444444,\"#bd3786\"],[0.5555555555555556,\"#d8576b\"],[0.6666666666666666,\"#ed7953\"],[0.7777777777777778,\"#fb9f3a\"],[0.8888888888888888,\"#fdca26\"],[1.0,\"#f0f921\"]]}],\"mesh3d\":[{\"type\":\"mesh3d\",\"colorbar\":{\"outlinewidth\":0,\"ticks\":\"\"}}],\"scatter\":[{\"fillpattern\":{\"fillmode\":\"overlay\",\"size\":10,\"solidity\":0.2},\"type\":\"scatter\"}],\"parcoords\":[{\"type\":\"parcoords\",\"line\":{\"colorbar\":{\"outlinewidth\":0,\"ticks\":\"\"}}}],\"scatterpolargl\":[{\"type\":\"scatterpolargl\",\"marker\":{\"colorbar\":{\"outlinewidth\":0,\"ticks\":\"\"}}}],\"bar\":[{\"error_x\":{\"color\":\"#2a3f5f\"},\"error_y\":{\"color\":\"#2a3f5f\"},\"marker\":{\"line\":{\"color\":\"#E5ECF6\",\"width\":0.5},\"pattern\":{\"fillmode\":\"overlay\",\"size\":10,\"solidity\":0.2}},\"type\":\"bar\"}],\"scattergeo\":[{\"type\":\"scattergeo\",\"marker\":{\"colorbar\":{\"outlinewidth\":0,\"ticks\":\"\"}}}],\"scatterpolar\":[{\"type\":\"scatterpolar\",\"marker\":{\"colorbar\":{\"outlinewidth\":0,\"ticks\":\"\"}}}],\"histogram\":[{\"marker\":{\"pattern\":{\"fillmode\":\"overlay\",\"size\":10,\"solidity\":0.2}},\"type\":\"histogram\"}],\"scattergl\":[{\"type\":\"scattergl\",\"marker\":{\"colorbar\":{\"outlinewidth\":0,\"ticks\":\"\"}}}],\"scatter3d\":[{\"type\":\"scatter3d\",\"line\":{\"colorbar\":{\"outlinewidth\":0,\"ticks\":\"\"}},\"marker\":{\"colorbar\":{\"outlinewidth\":0,\"ticks\":\"\"}}}],\"scattermapbox\":[{\"type\":\"scattermapbox\",\"marker\":{\"colorbar\":{\"outlinewidth\":0,\"ticks\":\"\"}}}],\"scatterternary\":[{\"type\":\"scatterternary\",\"marker\":{\"colorbar\":{\"outlinewidth\":0,\"ticks\":\"\"}}}],\"scattercarpet\":[{\"type\":\"scattercarpet\",\"marker\":{\"colorbar\":{\"outlinewidth\":0,\"ticks\":\"\"}}}],\"carpet\":[{\"aaxis\":{\"endlinecolor\":\"#2a3f5f\",\"gridcolor\":\"white\",\"linecolor\":\"white\",\"minorgridcolor\":\"white\",\"startlinecolor\":\"#2a3f5f\"},\"baxis\":{\"endlinecolor\":\"#2a3f5f\",\"gridcolor\":\"white\",\"linecolor\":\"white\",\"minorgridcolor\":\"white\",\"startlinecolor\":\"#2a3f5f\"},\"type\":\"carpet\"}],\"table\":[{\"cells\":{\"fill\":{\"color\":\"#EBF0F8\"},\"line\":{\"color\":\"white\"}},\"header\":{\"fill\":{\"color\":\"#C8D4E3\"},\"line\":{\"color\":\"white\"}},\"type\":\"table\"}],\"barpolar\":[{\"marker\":{\"line\":{\"color\":\"#E5ECF6\",\"width\":0.5},\"pattern\":{\"fillmode\":\"overlay\",\"size\":10,\"solidity\":0.2}},\"type\":\"barpolar\"}],\"pie\":[{\"automargin\":true,\"type\":\"pie\"}]},\"layout\":{\"autotypenumbers\":\"strict\",\"colorway\":[\"#636efa\",\"#EF553B\",\"#00cc96\",\"#ab63fa\",\"#FFA15A\",\"#19d3f3\",\"#FF6692\",\"#B6E880\",\"#FF97FF\",\"#FECB52\"],\"font\":{\"color\":\"#2a3f5f\"},\"hovermode\":\"closest\",\"hoverlabel\":{\"align\":\"left\"},\"paper_bgcolor\":\"white\",\"plot_bgcolor\":\"#E5ECF6\",\"polar\":{\"bgcolor\":\"#E5ECF6\",\"angularaxis\":{\"gridcolor\":\"white\",\"linecolor\":\"white\",\"ticks\":\"\"},\"radialaxis\":{\"gridcolor\":\"white\",\"linecolor\":\"white\",\"ticks\":\"\"}},\"ternary\":{\"bgcolor\":\"#E5ECF6\",\"aaxis\":{\"gridcolor\":\"white\",\"linecolor\":\"white\",\"ticks\":\"\"},\"baxis\":{\"gridcolor\":\"white\",\"linecolor\":\"white\",\"ticks\":\"\"},\"caxis\":{\"gridcolor\":\"white\",\"linecolor\":\"white\",\"ticks\":\"\"}},\"coloraxis\":{\"colorbar\":{\"outlinewidth\":0,\"ticks\":\"\"}},\"colorscale\":{\"sequential\":[[0.0,\"#0d0887\"],[0.1111111111111111,\"#46039f\"],[0.2222222222222222,\"#7201a8\"],[0.3333333333333333,\"#9c179e\"],[0.4444444444444444,\"#bd3786\"],[0.5555555555555556,\"#d8576b\"],[0.6666666666666666,\"#ed7953\"],[0.7777777777777778,\"#fb9f3a\"],[0.8888888888888888,\"#fdca26\"],[1.0,\"#f0f921\"]],\"sequentialminus\":[[0.0,\"#0d0887\"],[0.1111111111111111,\"#46039f\"],[0.2222222222222222,\"#7201a8\"],[0.3333333333333333,\"#9c179e\"],[0.4444444444444444,\"#bd3786\"],[0.5555555555555556,\"#d8576b\"],[0.6666666666666666,\"#ed7953\"],[0.7777777777777778,\"#fb9f3a\"],[0.8888888888888888,\"#fdca26\"],[1.0,\"#f0f921\"]],\"diverging\":[[0,\"#8e0152\"],[0.1,\"#c51b7d\"],[0.2,\"#de77ae\"],[0.3,\"#f1b6da\"],[0.4,\"#fde0ef\"],[0.5,\"#f7f7f7\"],[0.6,\"#e6f5d0\"],[0.7,\"#b8e186\"],[0.8,\"#7fbc41\"],[0.9,\"#4d9221\"],[1,\"#276419\"]]},\"xaxis\":{\"gridcolor\":\"white\",\"linecolor\":\"white\",\"ticks\":\"\",\"title\":{\"standoff\":15},\"zerolinecolor\":\"white\",\"automargin\":true,\"zerolinewidth\":2},\"yaxis\":{\"gridcolor\":\"white\",\"linecolor\":\"white\",\"ticks\":\"\",\"title\":{\"standoff\":15},\"zerolinecolor\":\"white\",\"automargin\":true,\"zerolinewidth\":2},\"scene\":{\"xaxis\":{\"backgroundcolor\":\"#E5ECF6\",\"gridcolor\":\"white\",\"linecolor\":\"white\",\"showbackground\":true,\"ticks\":\"\",\"zerolinecolor\":\"white\",\"gridwidth\":2},\"yaxis\":{\"backgroundcolor\":\"#E5ECF6\",\"gridcolor\":\"white\",\"linecolor\":\"white\",\"showbackground\":true,\"ticks\":\"\",\"zerolinecolor\":\"white\",\"gridwidth\":2},\"zaxis\":{\"backgroundcolor\":\"#E5ECF6\",\"gridcolor\":\"white\",\"linecolor\":\"white\",\"showbackground\":true,\"ticks\":\"\",\"zerolinecolor\":\"white\",\"gridwidth\":2}},\"shapedefaults\":{\"line\":{\"color\":\"#2a3f5f\"}},\"annotationdefaults\":{\"arrowcolor\":\"#2a3f5f\",\"arrowhead\":0,\"arrowwidth\":1},\"geo\":{\"bgcolor\":\"white\",\"landcolor\":\"#E5ECF6\",\"subunitcolor\":\"white\",\"showland\":true,\"showlakes\":true,\"lakecolor\":\"white\"},\"title\":{\"x\":0.05},\"mapbox\":{\"style\":\"light\"}}},\"title\":{\"text\":\"Correlation Heatmap\"},\"xaxis\":{\"side\":\"top\"},\"yaxis\":{\"title\":{\"text\":\"Features\"}},\"annotations\":[{\"font\":{\"color\":\"white\"},\"showarrow\":false,\"text\":\"-0.01\",\"x\":0,\"y\":1},{\"font\":{\"color\":\"white\"},\"showarrow\":false,\"text\":\"0.09\",\"x\":0,\"y\":2},{\"font\":{\"color\":\"white\"},\"showarrow\":false,\"text\":\"-0.05\",\"x\":1,\"y\":2},{\"font\":{\"color\":\"white\"},\"showarrow\":false,\"text\":\"0.05\",\"x\":0,\"y\":3},{\"font\":{\"color\":\"white\"},\"showarrow\":false,\"text\":\"0.07\",\"x\":1,\"y\":3},{\"font\":{\"color\":\"white\"},\"showarrow\":false,\"text\":\"-0.21\",\"x\":2,\"y\":3},{\"font\":{\"color\":\"white\"},\"showarrow\":false,\"text\":\"0.11\",\"x\":0,\"y\":4},{\"font\":{\"color\":\"white\"},\"showarrow\":false,\"text\":\"-0.18\",\"x\":1,\"y\":4},{\"font\":{\"color\":\"white\"},\"showarrow\":false,\"text\":\"-0.03\",\"x\":2,\"y\":4},{\"font\":{\"color\":\"white\"},\"showarrow\":false,\"text\":\"-0.08\",\"x\":3,\"y\":4},{\"font\":{\"color\":\"white\"},\"showarrow\":false,\"text\":\"0.07\",\"x\":0,\"y\":5},{\"font\":{\"color\":\"white\"},\"showarrow\":false,\"text\":\"-0.12\",\"x\":1,\"y\":5},{\"font\":{\"color\":\"white\"},\"showarrow\":false,\"text\":\"-0.05\",\"x\":2,\"y\":5},{\"font\":{\"color\":\"white\"},\"showarrow\":false,\"text\":\"-0.05\",\"x\":3,\"y\":5},{\"font\":{\"color\":\"white\"},\"showarrow\":false,\"text\":\"0.64\",\"x\":4,\"y\":5},{\"font\":{\"color\":\"white\"},\"showarrow\":false,\"text\":\"0.17\",\"x\":0,\"y\":6},{\"font\":{\"color\":\"white\"},\"showarrow\":false,\"text\":\"-0.15\",\"x\":1,\"y\":6},{\"font\":{\"color\":\"white\"},\"showarrow\":false,\"text\":\"0.04\",\"x\":2,\"y\":6},{\"font\":{\"color\":\"white\"},\"showarrow\":false,\"text\":\"-0.04\",\"x\":3,\"y\":6},{\"font\":{\"color\":\"white\"},\"showarrow\":false,\"text\":\"0.46\",\"x\":4,\"y\":6},{\"font\":{\"color\":\"white\"},\"showarrow\":false,\"text\":\"0.28\",\"x\":5,\"y\":6},{\"font\":{\"color\":\"white\"},\"showarrow\":false,\"text\":\"-0.06\",\"x\":0,\"y\":7},{\"font\":{\"color\":\"white\"},\"showarrow\":false,\"text\":\"-0.05\",\"x\":1,\"y\":7},{\"font\":{\"color\":\"white\"},\"showarrow\":false,\"text\":\"0.06\",\"x\":2,\"y\":7},{\"font\":{\"color\":\"white\"},\"showarrow\":false,\"text\":\"0.03\",\"x\":3,\"y\":7},{\"font\":{\"color\":\"white\"},\"showarrow\":false,\"text\":\"-0.1\",\"x\":4,\"y\":7},{\"font\":{\"color\":\"white\"},\"showarrow\":false,\"text\":\"-0.06\",\"x\":5,\"y\":7},{\"font\":{\"color\":\"white\"},\"showarrow\":false,\"text\":\"-0.09\",\"x\":6,\"y\":7},{\"font\":{\"color\":\"white\"},\"showarrow\":false,\"text\":\"0.01\",\"x\":0,\"y\":8},{\"font\":{\"color\":\"white\"},\"showarrow\":false,\"text\":\"-0.01\",\"x\":1,\"y\":8},{\"font\":{\"color\":\"white\"},\"showarrow\":false,\"text\":\"-0.02\",\"x\":2,\"y\":8},{\"font\":{\"color\":\"white\"},\"showarrow\":false,\"text\":\"0.02\",\"x\":3,\"y\":8},{\"font\":{\"color\":\"white\"},\"showarrow\":false,\"text\":\"-0.12\",\"x\":4,\"y\":8},{\"font\":{\"color\":\"white\"},\"showarrow\":false,\"text\":\"0.0\",\"x\":5,\"y\":8},{\"font\":{\"color\":\"white\"},\"showarrow\":false,\"text\":\"-0.09\",\"x\":6,\"y\":8},{\"font\":{\"color\":\"white\"},\"showarrow\":false,\"text\":\"0.07\",\"x\":7,\"y\":8},{\"font\":{\"color\":\"white\"},\"showarrow\":false,\"text\":\"-0.14\",\"x\":0,\"y\":9},{\"font\":{\"color\":\"white\"},\"showarrow\":false,\"text\":\"-0.01\",\"x\":1,\"y\":9},{\"font\":{\"color\":\"white\"},\"showarrow\":false,\"text\":\"-0.07\",\"x\":2,\"y\":9},{\"font\":{\"color\":\"white\"},\"showarrow\":false,\"text\":\"0.01\",\"x\":3,\"y\":9},{\"font\":{\"color\":\"white\"},\"showarrow\":false,\"text\":\"0.14\",\"x\":4,\"y\":9},{\"font\":{\"color\":\"white\"},\"showarrow\":false,\"text\":\"0.15\",\"x\":5,\"y\":9},{\"font\":{\"color\":\"white\"},\"showarrow\":false,\"text\":\"0.04\",\"x\":6,\"y\":9},{\"font\":{\"color\":\"white\"},\"showarrow\":false,\"text\":\"0.04\",\"x\":7,\"y\":9},{\"font\":{\"color\":\"white\"},\"showarrow\":false,\"text\":\"0.03\",\"x\":8,\"y\":9},{\"font\":{\"color\":\"white\"},\"showarrow\":false,\"text\":\"0.12\",\"x\":0,\"y\":10},{\"font\":{\"color\":\"white\"},\"showarrow\":false,\"text\":\"0.02\",\"x\":1,\"y\":10},{\"font\":{\"color\":\"white\"},\"showarrow\":false,\"text\":\"0.05\",\"x\":2,\"y\":10},{\"font\":{\"color\":\"white\"},\"showarrow\":false,\"text\":\"0.02\",\"x\":3,\"y\":10},{\"font\":{\"color\":\"white\"},\"showarrow\":false,\"text\":\"0.02\",\"x\":4,\"y\":10},{\"font\":{\"color\":\"white\"},\"showarrow\":false,\"text\":\"-0.03\",\"x\":5,\"y\":10},{\"font\":{\"color\":\"white\"},\"showarrow\":false,\"text\":\"0.01\",\"x\":6,\"y\":10},{\"font\":{\"color\":\"white\"},\"showarrow\":false,\"text\":\"-0.0\",\"x\":7,\"y\":10},{\"font\":{\"color\":\"white\"},\"showarrow\":false,\"text\":\"0.01\",\"x\":8,\"y\":10},{\"font\":{\"color\":\"white\"},\"showarrow\":false,\"text\":\"-0.09\",\"x\":9,\"y\":10},{\"font\":{\"color\":\"white\"},\"showarrow\":false,\"text\":\"0.06\",\"x\":0,\"y\":11},{\"font\":{\"color\":\"white\"},\"showarrow\":false,\"text\":\"-0.19\",\"x\":1,\"y\":11},{\"font\":{\"color\":\"white\"},\"showarrow\":false,\"text\":\"0.01\",\"x\":2,\"y\":11},{\"font\":{\"color\":\"white\"},\"showarrow\":false,\"text\":\"0.07\",\"x\":3,\"y\":11},{\"font\":{\"color\":\"white\"},\"showarrow\":false,\"text\":\"0.25\",\"x\":4,\"y\":11},{\"font\":{\"color\":\"white\"},\"showarrow\":false,\"text\":\"0.17\",\"x\":5,\"y\":11},{\"font\":{\"color\":\"white\"},\"showarrow\":false,\"text\":\"0.25\",\"x\":6,\"y\":11},{\"font\":{\"color\":\"white\"},\"showarrow\":false,\"text\":\"-0.02\",\"x\":7,\"y\":11},{\"font\":{\"color\":\"white\"},\"showarrow\":false,\"text\":\"0.02\",\"x\":8,\"y\":11},{\"font\":{\"color\":\"white\"},\"showarrow\":false,\"text\":\"0.08\",\"x\":9,\"y\":11},{\"font\":{\"color\":\"white\"},\"showarrow\":false,\"text\":\"0.02\",\"x\":10,\"y\":11},{\"font\":{\"color\":\"white\"},\"showarrow\":false,\"text\":\"-0.0\",\"x\":0,\"y\":12},{\"font\":{\"color\":\"white\"},\"showarrow\":false,\"text\":\"-0.05\",\"x\":1,\"y\":12},{\"font\":{\"color\":\"white\"},\"showarrow\":false,\"text\":\"-0.03\",\"x\":2,\"y\":12},{\"font\":{\"color\":\"white\"},\"showarrow\":false,\"text\":\"0.04\",\"x\":3,\"y\":12},{\"font\":{\"color\":\"white\"},\"showarrow\":false,\"text\":\"0.16\",\"x\":4,\"y\":12},{\"font\":{\"color\":\"white\"},\"showarrow\":false,\"text\":\"0.12\",\"x\":5,\"y\":12},{\"font\":{\"color\":\"white\"},\"showarrow\":false,\"text\":\"0.09\",\"x\":6,\"y\":12},{\"font\":{\"color\":\"white\"},\"showarrow\":false,\"text\":\"0.01\",\"x\":7,\"y\":12},{\"font\":{\"color\":\"white\"},\"showarrow\":false,\"text\":\"-0.02\",\"x\":8,\"y\":12},{\"font\":{\"color\":\"white\"},\"showarrow\":false,\"text\":\"0.17\",\"x\":9,\"y\":12},{\"font\":{\"color\":\"white\"},\"showarrow\":false,\"text\":\"-0.02\",\"x\":10,\"y\":12},{\"font\":{\"color\":\"white\"},\"showarrow\":false,\"text\":\"0.11\",\"x\":11,\"y\":12},{\"font\":{\"color\":\"white\"},\"showarrow\":false,\"text\":\"0.08\",\"x\":0,\"y\":13},{\"font\":{\"color\":\"white\"},\"showarrow\":false,\"text\":\"0.07\",\"x\":1,\"y\":13},{\"font\":{\"color\":\"white\"},\"showarrow\":false,\"text\":\"-0.0\",\"x\":2,\"y\":13},{\"font\":{\"color\":\"white\"},\"showarrow\":false,\"text\":\"-0.01\",\"x\":3,\"y\":13},{\"font\":{\"color\":\"white\"},\"showarrow\":false,\"text\":\"-0.21\",\"x\":4,\"y\":13},{\"font\":{\"color\":\"white\"},\"showarrow\":false,\"text\":\"-0.19\",\"x\":5,\"y\":13},{\"font\":{\"color\":\"white\"},\"showarrow\":false,\"text\":\"-0.14\",\"x\":6,\"y\":13},{\"font\":{\"color\":\"white\"},\"showarrow\":false,\"text\":\"0.05\",\"x\":7,\"y\":13},{\"font\":{\"color\":\"white\"},\"showarrow\":false,\"text\":\"0.09\",\"x\":8,\"y\":13},{\"font\":{\"color\":\"white\"},\"showarrow\":false,\"text\":\"-0.09\",\"x\":9,\"y\":13},{\"font\":{\"color\":\"white\"},\"showarrow\":false,\"text\":\"0.08\",\"x\":10,\"y\":13},{\"font\":{\"color\":\"white\"},\"showarrow\":false,\"text\":\"-0.06\",\"x\":11,\"y\":13},{\"font\":{\"color\":\"white\"},\"showarrow\":false,\"text\":\"-0.12\",\"x\":12,\"y\":13},{\"font\":{\"color\":\"white\"},\"showarrow\":false,\"text\":\"-0.03\",\"x\":0,\"y\":14},{\"font\":{\"color\":\"white\"},\"showarrow\":false,\"text\":\"-0.12\",\"x\":1,\"y\":14},{\"font\":{\"color\":\"white\"},\"showarrow\":false,\"text\":\"0.07\",\"x\":2,\"y\":14},{\"font\":{\"color\":\"white\"},\"showarrow\":false,\"text\":\"-0.02\",\"x\":3,\"y\":14},{\"font\":{\"color\":\"white\"},\"showarrow\":false,\"text\":\"0.23\",\"x\":4,\"y\":14},{\"font\":{\"color\":\"white\"},\"showarrow\":false,\"text\":\"0.19\",\"x\":5,\"y\":14},{\"font\":{\"color\":\"white\"},\"showarrow\":false,\"text\":\"0.12\",\"x\":6,\"y\":14},{\"font\":{\"color\":\"white\"},\"showarrow\":false,\"text\":\"-0.05\",\"x\":7,\"y\":14},{\"font\":{\"color\":\"white\"},\"showarrow\":false,\"text\":\"-0.04\",\"x\":8,\"y\":14},{\"font\":{\"color\":\"white\"},\"showarrow\":false,\"text\":\"0.0\",\"x\":9,\"y\":14},{\"font\":{\"color\":\"white\"},\"showarrow\":false,\"text\":\"0.1\",\"x\":10,\"y\":14},{\"font\":{\"color\":\"white\"},\"showarrow\":false,\"text\":\"0.11\",\"x\":11,\"y\":14},{\"font\":{\"color\":\"white\"},\"showarrow\":false,\"text\":\"-0.04\",\"x\":12,\"y\":14},{\"font\":{\"color\":\"white\"},\"showarrow\":false,\"text\":\"-0.26\",\"x\":13,\"y\":14}]},                        {\"responsive\": true}                    ).then(function(){\n",
       "                            \n",
       "var gd = document.getElementById('1a5c3a19-65c9-4294-95e4-dfe9b9e93de7');\n",
       "var x = new MutationObserver(function (mutations, observer) {{\n",
       "        var display = window.getComputedStyle(gd).display;\n",
       "        if (!display || display === 'none') {{\n",
       "            console.log([gd, 'removed!']);\n",
       "            Plotly.purge(gd);\n",
       "            observer.disconnect();\n",
       "        }}\n",
       "}});\n",
       "\n",
       "// Listen for the removal of the full notebook cells\n",
       "var notebookContainer = gd.closest('#notebook-container');\n",
       "if (notebookContainer) {{\n",
       "    x.observe(notebookContainer, {childList: true});\n",
       "}}\n",
       "\n",
       "// Listen for the clearing of the current output cell\n",
       "var outputEl = gd.closest('.output');\n",
       "if (outputEl) {{\n",
       "    x.observe(outputEl, {childList: true});\n",
       "}}\n",
       "\n",
       "                        })                };                });            </script>        </div>"
      ]
     },
     "metadata": {},
     "output_type": "display_data"
    }
   ],
   "source": [
    "# calculate the correlation matrix\n",
    "corr_matrix = z.corr()\n",
    "\n",
    "# create a heatmap using Plotly\n",
    "fig = go.Figure(data=go.Heatmap(z=corr_matrix.values,\n",
    "                                 x=corr_matrix.columns,\n",
    "                                 y=corr_matrix.index,\n",
    "                                 colorscale='Viridis',\n",
    "                                 text=corr_matrix.round(2).values))\n",
    "\n",
    "# set the title of the chart\n",
    "fig.update_layout(title='Correlation Heatmap')\n",
    "\n",
    "# add labels to the heatmap\n",
    "fig.update_layout(\n",
    "    xaxis=dict(side='top'),\n",
    "    yaxis=dict(title='Features'),\n",
    "    annotations=[dict(\n",
    "        x=x_val,\n",
    "        y=y_val,\n",
    "        text=str(text_val),\n",
    "        font=dict(color='white'),\n",
    "        showarrow=False\n",
    "    )\n",
    "        for y_val, y in enumerate(corr_matrix.index)\n",
    "        for x_val, x in enumerate(corr_matrix.columns)\n",
    "        for text_val in [corr_matrix.loc[y, x].round(2)]\n",
    "        if x_val < y_val\n",
    "])\n",
    "\n",
    "# display the chart\n",
    "fig.show()"
   ]
  },
  {
   "cell_type": "code",
   "execution_count": null,
   "id": "0b2d8ba6",
   "metadata": {},
   "outputs": [],
   "source": []
  }
 ],
 "metadata": {
  "kernelspec": {
   "display_name": "Python 3 (ipykernel)",
   "language": "python",
   "name": "python3"
  },
  "language_info": {
   "codemirror_mode": {
    "name": "ipython",
    "version": 3
   },
   "file_extension": ".py",
   "mimetype": "text/x-python",
   "name": "python",
   "nbconvert_exporter": "python",
   "pygments_lexer": "ipython3",
   "version": "3.10.9"
  }
 },
 "nbformat": 4,
 "nbformat_minor": 5
}
